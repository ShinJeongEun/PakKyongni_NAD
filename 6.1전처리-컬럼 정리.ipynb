{
 "cells": [
  {
   "cell_type": "code",
   "execution_count": null,
   "metadata": {},
   "outputs": [],
   "source": [
    "import pandas as pd\n",
    "import glob\n",
    "import os\n",
    "\n",
    "# 폴더 경로 설정 (raw string으로 지정)\n",
    "folder_path = r'경로'\n",
    "# 폴더 내 모든 엑셀 파일 검색\n",
    "excel_files = glob.glob(os.path.join(folder_path, '*.xlsx'))\n",
    "\n",
    "# 각 파일에 대해 처리\n",
    "for file in excel_files:\n",
    "    # 엑셀 파일 읽기 (engine='openpyxl' 추가)\n",
    "    df = pd.read_excel(file, engine='openpyxl')\n",
    "    \n",
    "    # 필요한 컬럼만 남기기\n",
    "    df_filtered = df[['media', 'date', 'title', 'sub-title', 'content', 'url']]\n",
    "    \n",
    "    # 새로운 파일 이름 생성 (원래 파일 이름에 '_filtered' 추가)\n",
    "    new_file_path = file.replace('.xlsx', '_filtered.xlsx')\n",
    "    \n",
    "    # 필터링된 데이터 저장\n",
    "    df_filtered.to_excel(new_file_path, index=False)\n",
    "\n",
    "print(\"모든 파일에 대한 필터링이 완료되었습니다.\")\n"
   ]
  }
 ],
 "metadata": {
  "kernelspec": {
   "display_name": "Python 3",
   "language": "python",
   "name": "python3"
  },
  "language_info": {
   "codemirror_mode": {
    "name": "ipython",
    "version": 3
   },
   "file_extension": ".py",
   "mimetype": "text/x-python",
   "name": "python",
   "nbconvert_exporter": "python",
   "pygments_lexer": "ipython3",
   "version": "3.12.3"
  }
 },
 "nbformat": 4,
 "nbformat_minor": 2
}
